{
 "cells": [
  {
   "cell_type": "code",
   "execution_count": null,
   "metadata": {},
   "outputs": [],
   "source": []
  }
 ],
 "metadata": {
  "interpreter": {
   "hash": "6d21e8b3429349e46517f9866bc6160edaa10dac8dc37d71e676d8395bf2d20f"
  },
  "kernelspec": {
   "display_name": "Python 3.7.5 64-bit ('Pytorch101_env': venv)",
   "language": "python",
   "name": "python3"
  },
  "language_info": {
   "name": "python",
   "version": "3.7.5"
  },
  "orig_nbformat": 4
 },
 "nbformat": 4,
 "nbformat_minor": 2
}
